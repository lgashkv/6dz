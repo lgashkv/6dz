import json

with open (r'C:\Users\Ольга\Downloads\Downloads\purchase_log.txt', encoding='utf-8' ) as r:
    for line in r:
        line = line.strip()
        dic = json.loads(line)
        print(dic)
        break

with open (r'C:\Users\Ольга\Downloads\Downloads\visit_log.csv', encoding='utf-8' )as r:
    with open ('funnel.csv','w', encoding='utf-8' )as f1:
        for line in r:
            line2 = line.strip().split(',')
            user = line2[0]
            for k,v in dic.items():
                    if user == v:
                        f1.write(f'str(line)'+dic.get('category')+"\n")

with open (r'C:\Users\Ольга\Downloads\Downloads\visit_log.csv', encoding='utf-8' )as r:
    with open ('funnel.csv','w', encoding='utf-8' )as f1:
        for line in r:
            line2 = line.strip().split(',')
            user = line2[0]
            for k,v in dic.items():
                    if user == v:
                        t = line2,dic.get('category')
                        f1.write(str(t))

with open (r'C:\Users\Ольга\Downloads\Downloads\visit_log.csv', encoding='utf-8' )as r:
    with open ('funnel.csv','w', encoding='utf-8' )as f1:
        for line in r:
            line2 = line.strip().split(',')
            pokupki = {i: j for i,j in enumerate(line2)} 
            if pokupki.items() in  dic.items():            
                print(pokupki.get(0),pokupki.get(1),dic.get('category'))


with open (r'C:\Users\Ольга\Downloads\Downloads\visit_log.csv', encoding='utf-8' )as r:
    with open ('funnel.csv','w', encoding='utf-8' )as f1:
        for line in r:
            line2 = line.strip().split(',')
            pokupki = {i: j for i,j in enumerate(line2)} 
            for k,v in pokupki.items():
                for k1,v1 in dic.items():
                    if v == v1:
                        print(v,v1) c3x