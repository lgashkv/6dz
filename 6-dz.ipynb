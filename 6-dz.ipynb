import json

purchases={}
with open (r'C:\Users\Ольга\Downloads\Downloads\purchase_log.txt', encoding='utf-8' ) as r:
    for line in r:
        line = line.strip()
        dic = json.loads(line)
        purchases[dic['user_id']] = dic['category']
r.close()

with open (r'C:\Users\Ольга\Downloads\Downloads\visit_log.csv', encoding='utf-8' )as r:
    with open ('funnel.csv','w', encoding='utf-8' )as f1:
        for line in r:
            line2 = line.strip().split(',')
            user = line2[0]
            category = dic.get(user)
            if category != None:
                f1.write(f'{line2},{purchases[user]}')

